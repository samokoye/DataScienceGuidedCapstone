{
 "cells": [
  {
   "cell_type": "markdown",
   "metadata": {},
   "source": [
    "In the following project I intend to do a time series analysis of volatility in Twitter stock. Specifically, I will see if the implied volatility of at the money option can be predicted first by looking at the implied volatilities over time (time-series analysis), and then by also including other features into the analysis. From a business perspective these predictions, if deemed successful, could be used to implement option trading strategies, to produce profits, based upon those predictions.\n",
    "\n",
    "The purpose of the following notebook will be to clean and prepare data for an analysis of volatility in Twitter stock. The data on Twitter stock and options is available for free on quandl.com and is available to anyone who downloads an API key. The data on the stock itself is provided separately from the option data and includes items such as high, low, close, and adjusted (taking into account splits) stock price. The option data provides insight into both historical volatility of the stock as well as the implied volatility of options of different maturity lengths. In order to use this data it will have to be cleaned by eliminating entries with NaN's and organized into appropriate categories. Additionally, the stock and option data needs to be combined into a useful data frame."
   ]
  },
  {
   "cell_type": "code",
   "execution_count": 13,
   "metadata": {},
   "outputs": [],
   "source": [
    "import pandas as pd\n",
    "import numpy as np\n",
    "import matplotlib.pyplot as plt\n",
    "from datetime import datetime"
   ]
  },
  {
   "cell_type": "code",
   "execution_count": 14,
   "metadata": {},
   "outputs": [],
   "source": [
    "url = 'https://www.quandl.com/api/v3/datasets/BATS/BATS_TWTR.csv'"
   ]
  },
  {
   "cell_type": "code",
   "execution_count": 16,
   "metadata": {},
   "outputs": [
    {
     "data": {
      "text/html": [
       "<div>\n",
       "<style scoped>\n",
       "    .dataframe tbody tr th:only-of-type {\n",
       "        vertical-align: middle;\n",
       "    }\n",
       "\n",
       "    .dataframe tbody tr th {\n",
       "        vertical-align: top;\n",
       "    }\n",
       "\n",
       "    .dataframe thead th {\n",
       "        text-align: right;\n",
       "    }\n",
       "</style>\n",
       "<table border=\"1\" class=\"dataframe\">\n",
       "  <thead>\n",
       "    <tr style=\"text-align: right;\">\n",
       "      <th></th>\n",
       "      <th>Date</th>\n",
       "      <th>Short Volume</th>\n",
       "      <th>Total Volume</th>\n",
       "    </tr>\n",
       "  </thead>\n",
       "  <tbody>\n",
       "    <tr>\n",
       "      <th>0</th>\n",
       "      <td>2021-03-10</td>\n",
       "      <td>583672.0</td>\n",
       "      <td>1277732.0</td>\n",
       "    </tr>\n",
       "    <tr>\n",
       "      <th>1</th>\n",
       "      <td>2021-03-09</td>\n",
       "      <td>612411.0</td>\n",
       "      <td>1103101.0</td>\n",
       "    </tr>\n",
       "    <tr>\n",
       "      <th>2</th>\n",
       "      <td>2021-03-08</td>\n",
       "      <td>630970.0</td>\n",
       "      <td>1242707.0</td>\n",
       "    </tr>\n",
       "    <tr>\n",
       "      <th>3</th>\n",
       "      <td>2021-03-05</td>\n",
       "      <td>595516.0</td>\n",
       "      <td>1165319.0</td>\n",
       "    </tr>\n",
       "    <tr>\n",
       "      <th>4</th>\n",
       "      <td>2021-03-04</td>\n",
       "      <td>517902.0</td>\n",
       "      <td>1062238.0</td>\n",
       "    </tr>\n",
       "  </tbody>\n",
       "</table>\n",
       "</div>"
      ],
      "text/plain": [
       "         Date  Short Volume  Total Volume\n",
       "0  2021-03-10      583672.0     1277732.0\n",
       "1  2021-03-09      612411.0     1103101.0\n",
       "2  2021-03-08      630970.0     1242707.0\n",
       "3  2021-03-05      595516.0     1165319.0\n",
       "4  2021-03-04      517902.0     1062238.0"
      ]
     },
     "execution_count": 16,
     "metadata": {},
     "output_type": "execute_result"
    }
   ],
   "source": [
    "TWTR = pd.read_csv(url)\n",
    "TWTR.head()"
   ]
  },
  {
   "cell_type": "code",
   "execution_count": null,
   "metadata": {},
   "outputs": [],
   "source": []
  }
 ],
 "metadata": {
  "kernelspec": {
   "display_name": "Python 3",
   "language": "python",
   "name": "python3"
  },
  "language_info": {
   "codemirror_mode": {
    "name": "ipython",
    "version": 3
   },
   "file_extension": ".py",
   "mimetype": "text/x-python",
   "name": "python",
   "nbconvert_exporter": "python",
   "pygments_lexer": "ipython3",
   "version": "3.8.5"
  }
 },
 "nbformat": 4,
 "nbformat_minor": 4
}
